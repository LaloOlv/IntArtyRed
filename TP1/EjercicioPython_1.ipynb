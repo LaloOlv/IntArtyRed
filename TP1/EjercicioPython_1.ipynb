{
  "nbformat": 4,
  "nbformat_minor": 0,
  "metadata": {
    "colab": {
      "provenance": []
    },
    "kernelspec": {
      "name": "python3",
      "display_name": "Python 3"
    },
    "language_info": {
      "name": "python"
    }
  },
  "cells": [
    {
      "cell_type": "markdown",
      "source": [
        "Ejercicios en Python, Eduardo Olvera Guerra, 2077774, N1-N3 "
      ],
      "metadata": {
        "id": "dgwW5kriUHIa"
      }
    },
    {
      "cell_type": "code",
      "execution_count": 7,
      "metadata": {
        "colab": {
          "base_uri": "https://localhost:8080/"
        },
        "id": "DGkD3UEhM1-Y",
        "outputId": "9318bcfb-c931-49ce-b955-76054c4c82af"
      },
      "outputs": [
        {
          "output_type": "stream",
          "name": "stdout",
          "text": [
            "¿Cuál es su nombre?Juan\n",
            "Perdoname, no te puedo saludarte\n"
          ]
        }
      ],
      "source": [
        "nombre = input(\"¿Cuál es su nombre?\")\n",
        "if nombre in [\"Juan\", \"Ana\", \"Pedro\"]:\n",
        "  print(\"Perdoname, no te puedo saludarte\")\n",
        "else:\n",
        "  print(f\"Hola {nombre}, que bonito nombre\")\n"
      ]
    },
    {
      "cell_type": "code",
      "source": [
        "def invertir_lista(lista):\n",
        "  return lista[::-1]\n",
        "n = int(input(\"Número de elementos de la lista: \"))\n",
        "lista = []\n",
        "for i in range(n):\n",
        "  elemento = input(f\"Elemento {i+1} de la lista: \")\n",
        "  lista.append(elemento)\n",
        "lista_invertida = invertir_lista(lista)\n",
        "print(f\"La lista invertida es: {lista_invertida}\")"
      ],
      "metadata": {
        "colab": {
          "base_uri": "https://localhost:8080/"
        },
        "id": "0Ge2HiURQoQl",
        "outputId": "b17e6d86-416e-4018-806f-8b72740a1cb8"
      },
      "execution_count": 1,
      "outputs": [
        {
          "output_type": "stream",
          "name": "stdout",
          "text": [
            "Número de elementos de la lista: 5\n",
            "Elemento 1 de la lista: 1\n",
            "Elemento 2 de la lista: 2\n",
            "Elemento 3 de la lista: 3\n",
            "Elemento 4 de la lista: 4\n",
            "Elemento 5 de la lista: 5\n",
            "La lista invertida es: ['5', '4', '3', '2', '1']\n"
          ]
        }
      ]
    },
    {
      "cell_type": "code",
      "source": [
        "n=int(input(\"Ingrese el número de términos de la serie de Fibonacci: \"))\n",
        "fibonacci=[0,1]\n",
        "for i in range(2,n):\n",
        "  termino=fibonacci[i-1]+fibonacci[i-2]\n",
        "  fibonacci.append(termino)\n",
        "\n",
        "print(f\"Los {n} primeros términos de la serie de Fibonacci son: {fibonacci}\")\n"
      ],
      "metadata": {
        "colab": {
          "base_uri": "https://localhost:8080/"
        },
        "id": "G2wqwU-HRmyM",
        "outputId": "4766a79f-083d-47e0-f54a-7f11af48c120"
      },
      "execution_count": 2,
      "outputs": [
        {
          "output_type": "stream",
          "name": "stdout",
          "text": [
            "Ingrese el número de términos de la serie de Fibonacci: 4\n",
            "Los 4 primeros términos de la serie de Fibonacci son: [0, 1, 1, 2]\n"
          ]
        }
      ]
    }
  ]
}